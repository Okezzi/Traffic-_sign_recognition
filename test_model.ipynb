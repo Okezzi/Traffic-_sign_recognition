{
 "cells": [
  {
   "cell_type": "code",
   "execution_count": 1,
   "metadata": {},
   "outputs": [],
   "source": [
    "import tensorflow as tf\n",
    "from tensorflow.keras import models\n",
    "from keras.preprocessing.image import load_img\n",
    "from keras.preprocessing.image import img_to_array\n",
    "from keras.models import Model\n",
    "from keras_visualizer import visualizer \n",
    "from matplotlib import pyplot\n",
    "from numpy import expand_dims\n",
    "from skimage import transform\n",
    "from skimage import exposure\n",
    "from skimage import io\n",
    "import os\n",
    "import numpy as np\n",
    "from PIL import Image\n",
    "import matplotlib.pyplot as plt"
   ]
  },
  {
   "cell_type": "code",
   "execution_count": 2,
   "metadata": {},
   "outputs": [],
   "source": [
    "model = models.load_model(\"trafficNet.h5\")"
   ]
  },
  {
   "cell_type": "code",
   "execution_count": 3,
   "metadata": {},
   "outputs": [],
   "source": [
    "def prepare_image(imagePath):\n",
    "    image = io.imread(imagePath)\n",
    "    image = transform.resize(image, (32, 32))\n",
    "    image = exposure.equalize_adapthist(image, clip_limit=0.1)\n",
    "    image = image.astype(\"float32\") / 255.0\n",
    "    return image.reshape(1, 32,32,3)\n",
    "\n",
    "def predict_image(image, model):\n",
    "    return np.array(model(image)).round(3)\n",
    "\n",
    "def present_pred(predictions):\n",
    "    label_pred = np.argsort(predictions)[-5:].tolist()\n",
    "    label_pred = label_pred[::-1]\n",
    "    pred_score = [predictions[i] for i in label_pred]\n",
    "    pred = [str(x) for x in label_pred]\n",
    "    return pred, pred_score\n"
   ]
  },
  {
   "cell_type": "code",
   "execution_count": 41,
   "metadata": {},
   "outputs": [
    {
     "name": "stdout",
     "output_type": "stream",
     "text": [
      "['0', '16', '1', '2', '11']\n",
      "[0.935, 0.033, 0.031, 0.002, 0.0]\n"
     ]
    },
    {
     "data": {
      "text/plain": [
       "<BarContainer object of 5 artists>"
      ]
     },
     "execution_count": 41,
     "metadata": {},
     "output_type": "execute_result"
    },
    {
     "data": {
      "image/png": "[encoded data removed]",
      "text/plain": [
       "<Figure size 432x288 with 1 Axes>"
      ]
     },
     "metadata": {
      "needs_background": "light"
     },
     "output_type": "display_data"
    }
   ],
   "source": [
    "imagePath = \"data/Meta/0.png\"\n",
    "image = prepare_image(imagePath)\n",
    "prediction = predict_image(image, model)\n",
    "p, s = present_pred(predictions=prediction[0])\n",
    "\n",
    "print(p)\n",
    "print(s)\n",
    "plt.bar(p, s)"
   ]
  },
  {
   "cell_type": "code",
   "execution_count": 42,
   "metadata": {},
   "outputs": [
    {
     "name": "stdout",
     "output_type": "stream",
     "text": [
      "Model: \"sequential\"\n",
      "_________________________________________________________________\n",
      " Layer (type)                Output Shape              Param #   \n",
      "=================================================================\n",
      " conv2d (Conv2D)             (None, 32, 32, 16)        448       \n",
      "                                                                 \n",
      " activation (Activation)     (None, 32, 32, 16)        0         \n",
      "                                                                 \n",
      " batch_normalization (BatchN  (None, 32, 32, 16)       64        \n",
      " ormalization)                                                   \n",
      "                                                                 \n",
      " max_pooling2d (MaxPooling2D  (None, 16, 16, 16)       0         \n",
      " )                                                               \n",
      "                                                                 \n",
      " conv2d_1 (Conv2D)           (None, 16, 16, 32)        4640      \n",
      "                                                                 \n",
      " activation_1 (Activation)   (None, 16, 16, 32)        0         \n",
      "                                                                 \n",
      " batch_normalization_1 (Batc  (None, 16, 16, 32)       128       \n",
      " hNormalization)                                                 \n",
      "                                                                 \n",
      " max_pooling2d_1 (MaxPooling  (None, 8, 8, 32)         0         \n",
      " 2D)                                                             \n",
      "                                                                 \n",
      " conv2d_2 (Conv2D)           (None, 8, 8, 64)          18496     \n",
      "                                                                 \n",
      " activation_2 (Activation)   (None, 8, 8, 64)          0         \n",
      "                                                                 \n",
      " batch_normalization_2 (Batc  (None, 8, 8, 64)         256       \n",
      " hNormalization)                                                 \n",
      "                                                                 \n",
      " max_pooling2d_2 (MaxPooling  (None, 4, 4, 64)         0         \n",
      " 2D)                                                             \n",
      "                                                                 \n",
      " flatten (Flatten)           (None, 1024)              0         \n",
      "                                                                 \n",
      " dense (Dense)               (None, 128)               131200    \n",
      "                                                                 \n",
      " activation_3 (Activation)   (None, 128)               0         \n",
      "                                                                 \n",
      " dense_1 (Dense)             (None, 43)                5547      \n",
      "                                                                 \n",
      " activation_4 (Activation)   (None, 43)                0         \n",
      "                                                                 \n",
      "=================================================================\n",
      "Total params: 160,779\n",
      "Trainable params: 160,555\n",
      "Non-trainable params: 224\n",
      "_________________________________________________________________\n"
     ]
    }
   ],
   "source": [
    "model.summary()"
   ]
  },
  {
   "cell_type": "code",
   "execution_count": 43,
   "metadata": {},
   "outputs": [
    {
     "name": "stdout",
     "output_type": "stream",
     "text": [
      "0 conv2d (None, 32, 32, 16)\n",
      "4 conv2d_1 (None, 16, 16, 32)\n",
      "8 conv2d_2 (None, 8, 8, 64)\n"
     ]
    }
   ],
   "source": [
    "# summarize feature map shapes\n",
    "for i in range(len(model.layers)):\n",
    "\tlayer = model.layers[i]\n",
    "\t# check for convolutional layer\n",
    "\tif 'conv' not in layer.name:\n",
    "\t\tcontinue\n",
    "\t# summarize output shape\n",
    "\tprint(i, layer.name, layer.output.shape)"
   ]
  },
  {
   "cell_type": "code",
   "execution_count": 44,
   "metadata": {},
   "outputs": [
    {
     "data": {
      "text/plain": [
       "<KerasTensor: shape=(None, 8, 8, 64) dtype=float32 (created by layer 'conv2d_2')>"
      ]
     },
     "execution_count": 44,
     "metadata": {},
     "output_type": "execute_result"
    }
   ],
   "source": [
    "model.layers[8].output"
   ]
  },
  {
   "cell_type": "code",
   "execution_count": 45,
   "metadata": {},
   "outputs": [],
   "source": [
    "first_layer = Model(inputs=model.inputs, outputs=model.layers[8].output)"
   ]
  },
  {
   "cell_type": "code",
   "execution_count": 46,
   "metadata": {},
   "outputs": [],
   "source": [
    "feature_map = first_layer.predict(image)"
   ]
  },
  {
   "cell_type": "code",
   "execution_count": 47,
   "metadata": {},
   "outputs": [
    {
     "data": {
      "text/plain": [
       "(1, 8, 8, 64)"
      ]
     },
     "execution_count": 47,
     "metadata": {},
     "output_type": "execute_result"
    }
   ],
   "source": [
    "feature_map.shape"
   ]
  },
  {
   "cell_type": "code",
   "execution_count": 49,
   "metadata": {},
   "outputs": [
    {
     "data": {
      "text/plain": [
       "<matplotlib.image.AxesImage at 0x1efc393b4f0>"
      ]
     },
     "execution_count": 49,
     "metadata": {},
     "output_type": "execute_result"
    },
    {
     "data": {
      "image/png": "[encoded data removed]",
      "text/plain": [
       "<Figure size 432x288 with 1 Axes>"
      ]
     },
     "metadata": {
      "needs_background": "light"
     },
     "output_type": "display_data"
    }
   ],
   "source": [
    "pyplot.imshow(feature_map[0, :, :, 1], cmap='gray')"
   ]
  },
  {
   "cell_type": "code",
   "execution_count": 14,
   "metadata": {},
   "outputs": [
    {
     "ename": "IndexError",
     "evalue": "index 16 is out of bounds for axis 3 with size 16",
     "output_type": "error",
     "traceback": [
      "\u001b[1;31m---------------------------------------------------------------------------\u001b[0m",
      "\u001b[1;31mIndexError\u001b[0m                                Traceback (most recent call last)",
      "\u001b[1;32mc:\\Users\\eikpon1\\OneDrive - Louisiana State University\\Documents\\Eloghosa\\Research\\MATH4997\\Traffic_sign_recognition\\test_model.ipynb Cell 10'\u001b[0m in \u001b[0;36m<cell line: 3>\u001b[1;34m()\u001b[0m\n\u001b[0;32m      <a href='vscode-notebook-cell:/c%3A/Users/eikpon1/OneDrive%20-%20Louisiana%20State%20University/Documents/Eloghosa/Research/MATH4997/Traffic_sign_recognition/test_model.ipynb#ch0000008?line=7'>8</a>\u001b[0m \t\tax\u001b[39m.\u001b[39mset_yticks([])\n\u001b[0;32m      <a href='vscode-notebook-cell:/c%3A/Users/eikpon1/OneDrive%20-%20Louisiana%20State%20University/Documents/Eloghosa/Research/MATH4997/Traffic_sign_recognition/test_model.ipynb#ch0000008?line=8'>9</a>\u001b[0m \t\t\u001b[39m# plot filter channel in grayscale\u001b[39;00m\n\u001b[1;32m---> <a href='vscode-notebook-cell:/c%3A/Users/eikpon1/OneDrive%20-%20Louisiana%20State%20University/Documents/Eloghosa/Research/MATH4997/Traffic_sign_recognition/test_model.ipynb#ch0000008?line=9'>10</a>\u001b[0m \t\tpyplot\u001b[39m.\u001b[39mimshow(feature_map[\u001b[39m0\u001b[39;49m, :, :, \u001b[39m16\u001b[39;49m], cmap\u001b[39m=\u001b[39m\u001b[39m'\u001b[39m\u001b[39mgray\u001b[39m\u001b[39m'\u001b[39m)\n\u001b[0;32m     <a href='vscode-notebook-cell:/c%3A/Users/eikpon1/OneDrive%20-%20Louisiana%20State%20University/Documents/Eloghosa/Research/MATH4997/Traffic_sign_recognition/test_model.ipynb#ch0000008?line=10'>11</a>\u001b[0m \t\tix \u001b[39m+\u001b[39m\u001b[39m=\u001b[39m \u001b[39m1\u001b[39m\n\u001b[0;32m     <a href='vscode-notebook-cell:/c%3A/Users/eikpon1/OneDrive%20-%20Louisiana%20State%20University/Documents/Eloghosa/Research/MATH4997/Traffic_sign_recognition/test_model.ipynb#ch0000008?line=11'>12</a>\u001b[0m \u001b[39m# show the figure\u001b[39;00m\n",
      "\u001b[1;31mIndexError\u001b[0m: index 16 is out of bounds for axis 3 with size 16"
     ]
    },
    {
     "data": {
      "image/png": "[encoded data removed]",
      "text/plain": [
       "<Figure size 432x288 with 1 Axes>"
      ]
     },
     "metadata": {},
     "output_type": "display_data"
    }
   ],
   "source": [
    "square = 32\n",
    "ix = 1\n",
    "for _ in range(square):\n",
    "\tfor _ in range(square):\n",
    "\t\t# specify subplot and turn of axis\n",
    "\t\tax = pyplot.subplot(square, square, ix)\n",
    "\t\tax.set_xticks([])\n",
    "\t\tax.set_yticks([])\n",
    "\t\t# plot filter channel in grayscale\n",
    "\t\tpyplot.imshow(feature_map[0, :, :, 16], cmap='gray')\n",
    "\t\tix += 1\n",
    "# show the figure\n",
    "pyplot.show()"
   ]
  },
  {
   "cell_type": "code",
   "execution_count": 11,
   "metadata": {},
   "outputs": [
    {
     "name": "stdout",
     "output_type": "stream",
     "text": [
      "You must install pydot (`pip install pydot`) and install graphviz (see instructions at https://graphviz.gitlab.io/download/) for plot_model/model_to_dot to work.\n"
     ]
    }
   ],
   "source": [
    "tf.keras.utils.plot_model(\n",
    "    model,\n",
    "    to_file=\"model.png\",\n",
    "    show_shapes=False,\n",
    "    show_dtype=False,\n",
    "    show_layer_names=True,\n",
    "    rankdir=\"TB\",\n",
    "    expand_nested=False,\n",
    "    dpi=96,\n",
    "    layer_range=None,\n",
    "    show_layer_activations=False,\n",
    ")"
   ]
  },
  {
   "cell_type": "code",
   "execution_count": 10,
   "metadata": {},
   "outputs": [
    {
     "ename": "IndexError",
     "evalue": "list index out of range",
     "output_type": "error",
     "traceback": [
      "\u001b[1;31m---------------------------------------------------------------------------\u001b[0m",
      "\u001b[1;31mIndexError\u001b[0m                                Traceback (most recent call last)",
      "\u001b[1;32mc:\\Users\\eikpon1\\OneDrive - Louisiana State University\\Documents\\Eloghosa\\Research\\MATH4997\\Traffic_sign_recognition\\test_model.ipynb Cell 12'\u001b[0m in \u001b[0;36m<cell line: 1>\u001b[1;34m()\u001b[0m\n\u001b[1;32m----> <a href='vscode-notebook-cell:/c%3A/Users/eikpon1/OneDrive%20-%20Louisiana%20State%20University/Documents/Eloghosa/Research/MATH4997/Traffic_sign_recognition/test_model.ipynb#ch0000010?line=0'>1</a>\u001b[0m visualizer(model, \u001b[39mformat\u001b[39;49m\u001b[39m=\u001b[39;49m\u001b[39m'\u001b[39;49m\u001b[39mpng\u001b[39;49m\u001b[39m'\u001b[39;49m, view\u001b[39m=\u001b[39;49m\u001b[39mTrue\u001b[39;49;00m)\n",
      "File \u001b[1;32m~\\Envs\\DLEnv\\lib\\site-packages\\keras_visualizer\\__init__.py:135\u001b[0m, in \u001b[0;36mvisualizer\u001b[1;34m(model, filename, format, view)\u001b[0m\n\u001b[0;32m    <a href='file:///c%3A/Users/eikpon1/Envs/DLEnv/lib/site-packages/keras_visualizer/__init__.py?line=132'>133</a>\u001b[0m \u001b[39mfor\u001b[39;00m i \u001b[39min\u001b[39;00m \u001b[39mrange\u001b[39m(\u001b[39m0\u001b[39m, hidden_layers_nr):\n\u001b[0;32m    <a href='file:///c%3A/Users/eikpon1/Envs/DLEnv/lib/site-packages/keras_visualizer/__init__.py?line=133'>134</a>\u001b[0m     \u001b[39mwith\u001b[39;00m graph\u001b[39m.\u001b[39msubgraph(name\u001b[39m=\u001b[39m\u001b[39m'\u001b[39m\u001b[39mcluster_\u001b[39m\u001b[39m'\u001b[39m \u001b[39m+\u001b[39m \u001b[39mstr\u001b[39m(i \u001b[39m+\u001b[39m \u001b[39m1\u001b[39m)) \u001b[39mas\u001b[39;00m c:\n\u001b[1;32m--> <a href='file:///c%3A/Users/eikpon1/Envs/DLEnv/lib/site-packages/keras_visualizer/__init__.py?line=134'>135</a>\u001b[0m         \u001b[39mif\u001b[39;00m layer_types[i] \u001b[39m==\u001b[39m \u001b[39m'\u001b[39m\u001b[39mDense\u001b[39m\u001b[39m'\u001b[39m:\n\u001b[0;32m    <a href='file:///c%3A/Users/eikpon1/Envs/DLEnv/lib/site-packages/keras_visualizer/__init__.py?line=135'>136</a>\u001b[0m             c\u001b[39m.\u001b[39mattr(color\u001b[39m=\u001b[39m\u001b[39m'\u001b[39m\u001b[39mwhite\u001b[39m\u001b[39m'\u001b[39m)\n\u001b[0;32m    <a href='file:///c%3A/Users/eikpon1/Envs/DLEnv/lib/site-packages/keras_visualizer/__init__.py?line=136'>137</a>\u001b[0m             c\u001b[39m.\u001b[39mattr(rank\u001b[39m=\u001b[39m\u001b[39m'\u001b[39m\u001b[39msame\u001b[39m\u001b[39m'\u001b[39m)\n",
      "\u001b[1;31mIndexError\u001b[0m: list index out of range"
     ]
    }
   ],
   "source": [
    "visualizer(model, format='png', view=True)"
   ]
  },
  {
   "cell_type": "code",
   "execution_count": 6,
   "metadata": {},
   "outputs": [],
   "source": [
    "# get the symbolic outputs of each \"key\" layer (we gave them unique names).\n",
    "layer_dict = dict([(layer.name, layer) for layer in model.layers])"
   ]
  },
  {
   "cell_type": "code",
   "execution_count": 7,
   "metadata": {},
   "outputs": [
    {
     "data": {
      "text/plain": [
       "{'conv2d': <keras.layers.convolutional.Conv2D at 0x1c819ae5370>,\n",
       " 'activation': <keras.layers.core.activation.Activation at 0x1c81fc10d00>,\n",
       " 'batch_normalization': <keras.layers.normalization.batch_normalization.BatchNormalization at 0x1c81fc56460>,\n",
       " 'max_pooling2d': <keras.layers.pooling.MaxPooling2D at 0x1c81fc951c0>,\n",
       " 'conv2d_1': <keras.layers.convolutional.Conv2D at 0x1c81fc95e80>,\n",
       " 'activation_1': <keras.layers.core.activation.Activation at 0x1c81fcaa100>,\n",
       " 'batch_normalization_1': <keras.layers.normalization.batch_normalization.BatchNormalization at 0x1c81fc9bf40>,\n",
       " 'max_pooling2d_1': <keras.layers.pooling.MaxPooling2D at 0x1c81fcb1e50>,\n",
       " 'conv2d_2': <keras.layers.convolutional.Conv2D at 0x1c81fcaac10>,\n",
       " 'activation_2': <keras.layers.core.activation.Activation at 0x1c81fc101f0>,\n",
       " 'batch_normalization_2': <keras.layers.normalization.batch_normalization.BatchNormalization at 0x1c81fcb1a30>,\n",
       " 'max_pooling2d_2': <keras.layers.pooling.MaxPooling2D at 0x1c81fcb8eb0>,\n",
       " 'flatten': <keras.layers.core.flatten.Flatten at 0x1c81fcb6e20>,\n",
       " 'dense': <keras.layers.core.dense.Dense at 0x1c81fcbc820>,\n",
       " 'activation_3': <keras.layers.core.activation.Activation at 0x1c81fcbcd30>,\n",
       " 'dense_1': <keras.layers.core.dense.Dense at 0x1c81fcc2d60>,\n",
       " 'activation_4': <keras.layers.core.activation.Activation at 0x1c81fcd0a00>}"
      ]
     },
     "execution_count": 7,
     "metadata": {},
     "output_type": "execute_result"
    }
   ],
   "source": [
    "layer_dict"
   ]
  },
  {
   "cell_type": "code",
   "execution_count": null,
   "metadata": {},
   "outputs": [],
   "source": []
  }
 ],
 "metadata": {
  "interpreter": {
   "hash": "4956747ee9fcc6ddeadbf274c4cd0a2bf4908d5263f1ea7b9357de7c41c9c143"
  },
  "kernelspec": {
   "display_name": "Python 3.8.10 ('DeepLearningENV')",
   "language": "python",
   "name": "python3"
  },
  "language_info": {
   "codemirror_mode": {
    "name": "ipython",
    "version": 3
   },
   "file_extension": ".py",
   "mimetype": "text/x-python",
   "name": "python",
   "nbconvert_exporter": "python",
   "pygments_lexer": "ipython3",
   "version": "3.9.10"
  },
  "orig_nbformat": 4
 },
 "nbformat": 4,
 "nbformat_minor": 2
}
